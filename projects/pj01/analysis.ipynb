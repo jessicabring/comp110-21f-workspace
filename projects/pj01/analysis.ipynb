{
 "cells": [
  {
   "cell_type": "markdown",
   "metadata": {},
   "source": [
    "# Choose Your Own Analysis\n",
    "Jessica Bring 730394024"
   ]
  },
  {
   "cell_type": "markdown",
   "metadata": {},
   "source": [
    "## Hypothesis: \n",
    "\n",
    "Computer Science Majors are **more likely** to highly rate the effectiveness of the quizzes than non-compsci majors."
   ]
  },
  {
   "cell_type": "markdown",
   "metadata": {},
   "source": [
    "Autoreloading the Data:"
   ]
  },
  {
   "cell_type": "code",
   "execution_count": 1,
   "metadata": {},
   "outputs": [],
   "source": [
    "    %reload_ext autoreload\n",
    "    %autoreload 2"
   ]
  },
  {
   "cell_type": "markdown",
   "metadata": {},
   "source": [
    "Retrieving the data from the csv file `{survey.csv}` and naming it as a variable."
   ]
  },
  {
   "cell_type": "code",
   "execution_count": 2,
   "metadata": {},
   "outputs": [],
   "source": [
    "DATA_DIRECTORY=\"../../data\"\n",
    "DATA_FILE_PATH=f\"{DATA_DIRECTORY}/survey.csv\""
   ]
  },
  {
   "cell_type": "markdown",
   "metadata": {},
   "source": [
    "Using the `read_csv_rows` function from `data_utils.py` to move the data into the Python kernel's memory for analysis. \n",
    "This will print out some info about the length of the csv's rows/columns and column names."
   ]
  },
  {
   "cell_type": "code",
   "execution_count": 3,
   "metadata": {},
   "outputs": [
    {
     "name": "stdout",
     "output_type": "stream",
     "text": [
      "Data File Read: ../../data/survey.csv\n",
      "573 rows\n",
      "36 columns\n",
      "Columns names: dict_keys(['row_number', 'year', 'unc_status', 'comp_major', 'primary_major', 'data_science', 'prereqs', 'prior_exp', 'AP_Principles', 'AP_A', 'other_comp', 'prior_time', 'languages', 'section', 'in_person_classes', 'hours_online_social', 'hours_online_work', 'lesson_time', 'sync_perf', 'all_sync', 'own_notes', 'own_examples', 'oh_visits', 'ls_effective', 'lsqs_effective', 'programming_effective', 'qz_effective', 'oh_effective', 'tutoring_effective', 'kaki_effective', 'pace', 'difficulty', 'understanding', 'interesting', 'valuable', 'would_recommend'])\n"
     ]
    }
   ],
   "source": [
    "from data_utils import read_csv_rows\n",
    "data_rows: list[dict[str, str]] = read_csv_rows(DATA_FILE_PATH)\n",
    "\n",
    "print(f\"Data File Read: {DATA_FILE_PATH}\")\n",
    "print(f\"{len(data_rows)} rows\")\n",
    "print(f\"{len(data_rows[0].keys())} columns\")\n",
    "print(f\"Columns names: {data_rows[0].keys()}\")"
   ]
  },
  {
   "cell_type": "markdown",
   "metadata": {},
   "source": [
    "**Next**, I want to use the `columnar` function to convert this row-oriented table into a column-oriented table so I can better isolate the data I want to see for my experiment."
   ]
  },
  {
   "cell_type": "code",
   "execution_count": 4,
   "metadata": {},
   "outputs": [],
   "source": [
    "from data_utils import columnar\n",
    "\n",
    "data_cols: dict[str, list[str]] = columnar(data_rows)"
   ]
  },
  {
   "cell_type": "markdown",
   "metadata": {},
   "source": [
    "Since my research revolves around the comparison of two subsets of this data; 'comp_major' and 'qz_effective', I want to use the `select` function to isolate these two columns. In order to create a slightly less overwhelming list of data, I'm inducting the `head` function so I can display a selected number of columns. I'm also using the `tabulate` function to represent my data in a table."
   ]
  },
  {
   "cell_type": "code",
   "execution_count": 5,
   "metadata": {},
   "outputs": [
    {
     "data": {
      "text/html": [
       "<table>\n",
       "<thead>\n",
       "<tr><th>comp_major  </th><th style=\"text-align: right;\">  qz_effective</th></tr>\n",
       "</thead>\n",
       "<tbody>\n",
       "<tr><td>No          </td><td style=\"text-align: right;\">             5</td></tr>\n",
       "<tr><td>No          </td><td style=\"text-align: right;\">             5</td></tr>\n",
       "<tr><td>No          </td><td style=\"text-align: right;\">             7</td></tr>\n",
       "<tr><td>No          </td><td style=\"text-align: right;\">             7</td></tr>\n",
       "<tr><td>No          </td><td style=\"text-align: right;\">             5</td></tr>\n",
       "<tr><td>No          </td><td style=\"text-align: right;\">             5</td></tr>\n",
       "<tr><td>No          </td><td style=\"text-align: right;\">             5</td></tr>\n",
       "<tr><td>No          </td><td style=\"text-align: right;\">             4</td></tr>\n",
       "<tr><td>No          </td><td style=\"text-align: right;\">             7</td></tr>\n",
       "<tr><td>No          </td><td style=\"text-align: right;\">             6</td></tr>\n",
       "</tbody>\n",
       "</table>"
      ],
      "text/plain": [
       "'<table>\\n<thead>\\n<tr><th>comp_major  </th><th style=\"text-align: right;\">  qz_effective</th></tr>\\n</thead>\\n<tbody>\\n<tr><td>No          </td><td style=\"text-align: right;\">             5</td></tr>\\n<tr><td>No          </td><td style=\"text-align: right;\">             5</td></tr>\\n<tr><td>No          </td><td style=\"text-align: right;\">             7</td></tr>\\n<tr><td>No          </td><td style=\"text-align: right;\">             7</td></tr>\\n<tr><td>No          </td><td style=\"text-align: right;\">             5</td></tr>\\n<tr><td>No          </td><td style=\"text-align: right;\">             5</td></tr>\\n<tr><td>No          </td><td style=\"text-align: right;\">             5</td></tr>\\n<tr><td>No          </td><td style=\"text-align: right;\">             4</td></tr>\\n<tr><td>No          </td><td style=\"text-align: right;\">             7</td></tr>\\n<tr><td>No          </td><td style=\"text-align: right;\">             6</td></tr>\\n</tbody>\\n</table>'"
      ]
     },
     "execution_count": 5,
     "metadata": {},
     "output_type": "execute_result"
    }
   ],
   "source": [
    "from data_utils import select\n",
    "from tabulate import tabulate\n",
    "from data_utils import head\n",
    "\n",
    "selected_data: dict[str, list[str]] = select(data_cols, [\"comp_major\", \"qz_effective\"])\n",
    "\n",
    "tabulate(head(selected_data, 10), selected_data.keys(), \"html\")"
   ]
  },
  {
   "cell_type": "markdown",
   "metadata": {},
   "source": [
    "Now, I only want to see the responses of Computer Science majors, so I am creating a `filter` function in my `data_utils` file to filter out any responses from non-comp sci majors. I'll use the tabulate function to represent the first 10 rows of data from my sample. "
   ]
  },
  {
   "cell_type": "code",
   "execution_count": 6,
   "metadata": {},
   "outputs": [
    {
     "data": {
      "text/html": [
       "<table>\n",
       "<thead>\n",
       "<tr><th>comp_major  </th><th style=\"text-align: right;\">  qz_effective</th></tr>\n",
       "</thead>\n",
       "<tbody>\n",
       "<tr><td>Yes - BS    </td><td style=\"text-align: right;\">             2</td></tr>\n",
       "<tr><td>Yes - BA    </td><td style=\"text-align: right;\">             2</td></tr>\n",
       "<tr><td>Yes - BS    </td><td style=\"text-align: right;\">             7</td></tr>\n",
       "<tr><td>Yes - BA    </td><td style=\"text-align: right;\">             7</td></tr>\n",
       "<tr><td>Yes - BA    </td><td style=\"text-align: right;\">             7</td></tr>\n",
       "<tr><td>Yes - BA    </td><td style=\"text-align: right;\">             5</td></tr>\n",
       "<tr><td>Yes - BA    </td><td style=\"text-align: right;\">             7</td></tr>\n",
       "<tr><td>Yes - BS    </td><td style=\"text-align: right;\">             7</td></tr>\n",
       "<tr><td>Yes - BA    </td><td style=\"text-align: right;\">             6</td></tr>\n",
       "<tr><td>Yes - BS    </td><td style=\"text-align: right;\">             7</td></tr>\n",
       "</tbody>\n",
       "</table>"
      ],
      "text/plain": [
       "'<table>\\n<thead>\\n<tr><th>comp_major  </th><th style=\"text-align: right;\">  qz_effective</th></tr>\\n</thead>\\n<tbody>\\n<tr><td>Yes - BS    </td><td style=\"text-align: right;\">             2</td></tr>\\n<tr><td>Yes - BA    </td><td style=\"text-align: right;\">             2</td></tr>\\n<tr><td>Yes - BS    </td><td style=\"text-align: right;\">             7</td></tr>\\n<tr><td>Yes - BA    </td><td style=\"text-align: right;\">             7</td></tr>\\n<tr><td>Yes - BA    </td><td style=\"text-align: right;\">             7</td></tr>\\n<tr><td>Yes - BA    </td><td style=\"text-align: right;\">             5</td></tr>\\n<tr><td>Yes - BA    </td><td style=\"text-align: right;\">             7</td></tr>\\n<tr><td>Yes - BS    </td><td style=\"text-align: right;\">             7</td></tr>\\n<tr><td>Yes - BA    </td><td style=\"text-align: right;\">             6</td></tr>\\n<tr><td>Yes - BS    </td><td style=\"text-align: right;\">             7</td></tr>\\n</tbody>\\n</table>'"
      ]
     },
     "execution_count": 6,
     "metadata": {},
     "output_type": "execute_result"
    }
   ],
   "source": [
    "from tabulate import tabulate\n",
    "from data_utils import head\n",
    "from data_utils import filter\n",
    "\n",
    "compsci_data: dict[str, list[str]] = filter(data_rows, \"Yes - BS\", \"Yes - BA\", [\"comp_major\", \"qz_effective\"])\n",
    "tabulate(head(compsci_data, 10), compsci_data.keys(), \"html\")"
   ]
  },
  {
   "cell_type": "markdown",
   "metadata": {},
   "source": [
    "Now, I want to count the frequency of ratings higher than 4 in both compsci majors and non-compsci majors. To do this, I'll modify the `count` function, creating my own function `frequency_greater` where I can count up user ratings of the quiz greater than four and split them into what major they were. Additionally, I created a `frequency_less` function that does the same thing with ratings less than 4. I excluded ratings of 4 because the middle response is no use to me."
   ]
  },
  {
   "cell_type": "code",
   "execution_count": 7,
   "metadata": {},
   "outputs": [
    {
     "name": "stdout",
     "output_type": "stream",
     "text": [
      "Higher ratings: {'No': 259, 'Yes - Minor': 24, 'Yes - BS': 68, 'Yes - BA': 29}\n",
      "Lower ratings: {'No': 92, 'Yes - BS': 9, 'Yes - BA': 13, 'Yes - Minor': 4}\n"
     ]
    }
   ],
   "source": [
    "from data_utils import frequency_greater\n",
    "from data_utils import frequency_less\n",
    "\n",
    "greater_data: dict[str, int] = frequency_greater(selected_data, 4, \"qz_effective\", \"comp_major\")\n",
    "print(f\"Higher ratings: {greater_data}\")\n",
    "\n",
    "less_data: dict[str, int] = frequency_less(selected_data, 4, \"qz_effective\", \"comp_major\")\n",
    "print(f\"Lower ratings: {less_data}\")"
   ]
  },
  {
   "cell_type": "markdown",
   "metadata": {},
   "source": [
    "Now, I want to represent the datasets into a graph; I will use the `pyplot` function import to do this. This will get me a graphical representation of the data so I can visually see the difference in responses when grouped into major types. After looking at this representation, I can come to my conclusion about my hypothesis and its accuracy."
   ]
  },
  {
   "cell_type": "code",
   "execution_count": 9,
   "metadata": {},
   "outputs": [
    {
     "data": {
      "text/plain": [
       "<BarContainer object of 4 artists>"
      ]
     },
     "execution_count": 9,
     "metadata": {},
     "output_type": "execute_result"
    },
    {
     "data": {
      "image/png": "[encoded data removed]",
      "text/plain": [
       "<Figure size 864x360 with 2 Axes>"
      ]
     },
     "metadata": {
      "needs_background": "light"
     },
     "output_type": "display_data"
    }
   ],
   "source": [
    "from matplotlib import pyplot as plt\n",
    "\n",
    "fig, axes = plt.subplots(1, 2, figsize=(12, 5), sharey=True)\n",
    "fig.suptitle(\"Student Ratings of Quiz Effectiveness: Compsci vs Non Compsci Majors\")\n",
    "\n",
    "\n",
    "axes[0].set_title(\"Higher Effectiveness Ratings\")\n",
    "axes[0].bar(greater_data.keys(), greater_data.values())\n",
    "axes[0].tick_params(axis='x', labelrotation = 75)\n",
    "\n",
    "axes[1].set_title(\"Lower Effectiveness Ratings\")\n",
    "axes[1].bar(less_data.keys(), less_data.values())"
   ]
  },
  {
   "cell_type": "markdown",
   "metadata": {},
   "source": [
    "# Conclusion\n",
    "\n",
    "Based off of the data representation that I have been able to create with my code, it seems like my hypothesis is not supported by the data. By the looks of these graphs and the frequency data that I have been able to collect, the class as a whole seems to rate the effectiveness of the quizzes quite highly, no matter what their major is. My original assumption was that computer science majors were more likely to enjoy the quizzes because they have chosen the topic of this class as their major, and would therefore be more interested and engaged in the content, causing them to perform better and thus rate the quiz effectiveness higher. Upon further analysis, it seems like more than half of each subgroup (compsci majors/minors or not) believes that the quizzes are effective in helping them learn. My original hypothesis was based off of the notion that people who perform better on the quizzes will rate their effectiveness higher, I immediately assumed that computer science majors would perform better (because they are the direct target audience of this material) so they would be the people rating the effectiveness higher. Without having to bring any sort of percentage system into this, or looking through the average quiz grades of each students, it looks like my assumptions were incorrect. My hypothesis should be expanded upon to incorporate data regarding the average quiz grade of each student whose data is included in this csv in order to better my experiment next time. "
   ]
  }
 ],
 "metadata": {
  "interpreter": {
   "hash": "aee8b7b246df8f9039afb4144a1f6fd8d2ca17a180786b69acc140d282b71a49"
  },
  "kernelspec": {
   "display_name": "Python 3.9.6 64-bit",
   "name": "python3"
  },
  "language_info": {
   "codemirror_mode": {
    "name": "ipython",
    "version": 3
   },
   "file_extension": ".py",
   "mimetype": "text/x-python",
   "name": "python",
   "nbconvert_exporter": "python",
   "pygments_lexer": "ipython3",
   "version": "3.9.6"
  },
  "orig_nbformat": 4
 },
 "nbformat": 4,
 "nbformat_minor": 2
}
